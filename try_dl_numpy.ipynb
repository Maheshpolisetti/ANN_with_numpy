{
 "cells": [
  {
   "cell_type": "code",
   "execution_count": 1,
   "id": "f1f3e696",
   "metadata": {},
   "outputs": [
    {
     "data": {
      "text/plain": [
       "<module 'dl_with_numpy' from 'c:\\\\Users\\\\psvma\\\\OneDrive\\\\Desktop\\\\project_try_dl\\\\dl_with_numpy.py'>"
      ]
     },
     "execution_count": 1,
     "metadata": {},
     "output_type": "execute_result"
    }
   ],
   "source": [
    "import importlib\n",
    "import dl_with_numpy\n",
    "importlib.reload(dl_with_numpy)"
   ]
  },
  {
   "cell_type": "code",
   "execution_count": 2,
   "id": "71ebe521",
   "metadata": {},
   "outputs": [],
   "source": [
    "from dl_with_numpy import deep_learning"
   ]
  },
  {
   "cell_type": "code",
   "execution_count": 3,
   "id": "f651818c",
   "metadata": {},
   "outputs": [],
   "source": [
    "from sklearn.datasets import load_digits  # checking classification models \n",
    "from sklearn.model_selection import train_test_split\n",
    "from sklearn.preprocessing import StandardScaler"
   ]
  },
  {
   "cell_type": "code",
   "execution_count": 4,
   "id": "e2b6fa2d",
   "metadata": {},
   "outputs": [
    {
     "name": "stdout",
     "output_type": "stream",
     "text": [
      "model 1 checking classification model on gray scale hand written data set\n"
     ]
    }
   ],
   "source": [
    "print(\"model 1 checking classification model on gray scale hand written data set\")"
   ]
  },
  {
   "cell_type": "code",
   "execution_count": 5,
   "id": "058c4775",
   "metadata": {},
   "outputs": [],
   "source": [
    "X, y = load_digits(return_X_y=True) # toy data set \n",
    "X = StandardScaler().fit_transform(X)\n",
    "X_train1, X_test1, y_train1, y_test1 = train_test_split(X, y, test_size=0.2)"
   ]
  },
  {
   "cell_type": "code",
   "execution_count": 6,
   "id": "14bd5c6c",
   "metadata": {},
   "outputs": [
    {
     "name": "stdout",
     "output_type": "stream",
     "text": [
      "Epoch 1: Loss = 2.8792, Accuracy = 0.0988\n",
      "Epoch 11: Loss = 2.4245, Accuracy = 0.1921\n",
      "Epoch 21: Loss = 2.0951, Accuracy = 0.2839\n",
      "Epoch 31: Loss = 1.8333, Accuracy = 0.4120\n",
      "Epoch 41: Loss = 1.6086, Accuracy = 0.5226\n",
      "Epoch 51: Loss = 1.4020, Accuracy = 0.6019\n",
      "Epoch 61: Loss = 1.2074, Accuracy = 0.6625\n",
      "Epoch 71: Loss = 1.0288, Accuracy = 0.7279\n",
      "Epoch 81: Loss = 0.8697, Accuracy = 0.7850\n",
      "Epoch 91: Loss = 0.7301, Accuracy = 0.8365\n",
      "Epoch 101: Loss = 0.6110, Accuracy = 0.8685\n",
      "Epoch 111: Loss = 0.5113, Accuracy = 0.8887\n",
      "Epoch 121: Loss = 0.4306, Accuracy = 0.9102\n",
      "Epoch 131: Loss = 0.3662, Accuracy = 0.9214\n",
      "Epoch 141: Loss = 0.3144, Accuracy = 0.9360\n",
      "Epoch 151: Loss = 0.2726, Accuracy = 0.9429\n",
      "Epoch 161: Loss = 0.2389, Accuracy = 0.9485\n",
      "Epoch 171: Loss = 0.2110, Accuracy = 0.9562\n",
      "Epoch 181: Loss = 0.1876, Accuracy = 0.9610\n",
      "Epoch 191: Loss = 0.1677, Accuracy = 0.9666\n",
      "Epoch 200: Loss = 0.1521, Accuracy = 0.9708\n",
      "Test Accuracy: 0.9444\n"
     ]
    }
   ],
   "source": [
    "model1 = deep_learning()\n",
    "model1.base_model()\n",
    "model1.lr = 0.001  # manually set learning rate since constructor is empty\n",
    "\n",
    "# Add layers: input 64 -> hidden 32 -> hidden 16 -> output 10\n",
    "model1.add_layers(input_size=64, output_size=32, act=\"relu\", weight_int=\"heuniform\", base_int=\"zeros\")\n",
    "model1.add_layers(input_size=32, output_size=16, act=\"relu\", weight_int=\"heuniform\", base_int=\"zeros\")\n",
    "model1.add_layers(input_size=16, output_size=10, act=\"softmax\", weight_int=\"heuniform\", base_int=\"zeros\")\n",
    "\n",
    "# start training \n",
    "model1.train(X_train1, y_train1, model_type=\"classification\", epochs=200)\n",
    "\n",
    "# Evaluate on test set\n",
    "test_accuracy = model1.accuracy(X_test1, y_test1)\n",
    "print(f\"Test Accuracy: {test_accuracy:.4f}\")"
   ]
  },
  {
   "cell_type": "code",
   "execution_count": 7,
   "id": "4df578bc",
   "metadata": {},
   "outputs": [
    {
     "name": "stdout",
     "output_type": "stream",
     "text": [
      "model 2 checking on regression model with data set california housing \n"
     ]
    }
   ],
   "source": [
    "print(\"model 2 checking on regression model with data set california housing \")"
   ]
  },
  {
   "cell_type": "code",
   "execution_count": 8,
   "id": "97fe727a",
   "metadata": {},
   "outputs": [],
   "source": [
    "from sklearn.datasets import fetch_california_housing # checking regression model "
   ]
  },
  {
   "cell_type": "code",
   "execution_count": 9,
   "id": "bfb3dff7",
   "metadata": {},
   "outputs": [],
   "source": [
    "data = fetch_california_housing()\n",
    "X2, y2 = data.data, data.target\n",
    "\n",
    "# Scale features\n",
    "scaler = StandardScaler()\n",
    "X2 = scaler.fit_transform(X2)\n",
    "\n",
    "# Split into train and test\n",
    "X_train2, X_test2, y_train2, y_test2 = train_test_split(X2, y2, test_size=0.2, random_state=42)"
   ]
  },
  {
   "cell_type": "code",
   "execution_count": 10,
   "id": "5101037e",
   "metadata": {},
   "outputs": [
    {
     "name": "stdout",
     "output_type": "stream",
     "text": [
      "Epoch 1: Loss = 12.4735, r2 score = -1.9148\n",
      "Epoch 11: Loss = 3.1881, r2 score = 0.2373\n",
      "Epoch 21: Loss = 2.6953, r2 score = 0.4343\n",
      "Epoch 31: Loss = 2.4666, r2 score = 0.5302\n",
      "Epoch 41: Loss = 2.3054, r2 score = 0.5842\n",
      "Epoch 51: Loss = 2.1580, r2 score = 0.6257\n",
      "Epoch 61: Loss = 2.0296, r2 score = 0.6546\n",
      "Epoch 71: Loss = 1.9129, r2 score = 0.6781\n",
      "Epoch 81: Loss = 1.8047, r2 score = 0.6967\n",
      "Epoch 91: Loss = 1.7045, r2 score = 0.7113\n",
      "Epoch 101: Loss = 1.6111, r2 score = 0.7225\n",
      "Epoch 111: Loss = 1.5244, r2 score = 0.7310\n",
      "Epoch 121: Loss = 1.4445, r2 score = 0.7366\n",
      "Epoch 131: Loss = 1.3709, r2 score = 0.7398\n",
      "Epoch 141: Loss = 1.3020, r2 score = 0.7423\n",
      "Epoch 151: Loss = 1.2380, r2 score = 0.7434\n",
      "Epoch 161: Loss = 1.1768, r2 score = 0.7454\n",
      "Epoch 171: Loss = 1.1193, r2 score = 0.7474\n",
      "Epoch 181: Loss = 1.0652, r2 score = 0.7491\n",
      "Epoch 191: Loss = 1.0143, r2 score = 0.7508\n",
      "Epoch 200: Loss = 0.9710, r2 score = 0.7524\n",
      "Test r2: 0.733169280703938\n"
     ]
    }
   ],
   "source": [
    "model2 = deep_learning()\n",
    "model2.base_model(0.01)  # Initialize attributes\n",
    "model2.lr = 0.005  # Set learning rate\n",
    "\n",
    "# Add layers:\n",
    "# California housing features = 8\n",
    "model2.add_layers(input_size=8, output_size=128, act=\"relu\")\n",
    "model2.add_layers(input_size=128, output_size=64, act=\"relu\")\n",
    "model2.add_layers(input_size=64, output_size=16, act=\"relu\")\n",
    "model2.add_layers(input_size=16, output_size=1, act=\"linear\")  # Output is 1 value\n",
    "\n",
    "# Train the model\n",
    "model2.train(X_train2, y_train2.reshape(-1,1), model_type=\"regression\", epochs=200)\n",
    "\n",
    "# Predict and evaluate\n",
    "# y_pred2 = model2.forward(X_test2)\n",
    "r2 = model2.r2_score(X_test2, y_test2.reshape(-1,1))\n",
    "print(\"Test r2:\", r2)"
   ]
  },
  {
   "cell_type": "code",
   "execution_count": 11,
   "id": "71929771",
   "metadata": {},
   "outputs": [
    {
     "name": "stdout",
     "output_type": "stream",
     "text": [
      "model 3 checking on mnist data set for training\n"
     ]
    }
   ],
   "source": [
    "print(\"model 3 checking on mnist data set for training\")"
   ]
  },
  {
   "cell_type": "code",
   "execution_count": 12,
   "id": "7ee53c4b",
   "metadata": {},
   "outputs": [],
   "source": [
    "from tensorflow.keras.datasets import mnist # type: ignore\n",
    "(x_train, y_train), (x_test, y_test) = mnist.load_data()  # checking mnist"
   ]
  },
  {
   "cell_type": "code",
   "execution_count": 13,
   "id": "ccb30578",
   "metadata": {},
   "outputs": [
    {
     "data": {
      "text/plain": [
       "array([[[0, 0, 0, ..., 0, 0, 0],\n",
       "        [0, 0, 0, ..., 0, 0, 0],\n",
       "        [0, 0, 0, ..., 0, 0, 0],\n",
       "        ...,\n",
       "        [0, 0, 0, ..., 0, 0, 0],\n",
       "        [0, 0, 0, ..., 0, 0, 0],\n",
       "        [0, 0, 0, ..., 0, 0, 0]],\n",
       "\n",
       "       [[0, 0, 0, ..., 0, 0, 0],\n",
       "        [0, 0, 0, ..., 0, 0, 0],\n",
       "        [0, 0, 0, ..., 0, 0, 0],\n",
       "        ...,\n",
       "        [0, 0, 0, ..., 0, 0, 0],\n",
       "        [0, 0, 0, ..., 0, 0, 0],\n",
       "        [0, 0, 0, ..., 0, 0, 0]],\n",
       "\n",
       "       [[0, 0, 0, ..., 0, 0, 0],\n",
       "        [0, 0, 0, ..., 0, 0, 0],\n",
       "        [0, 0, 0, ..., 0, 0, 0],\n",
       "        ...,\n",
       "        [0, 0, 0, ..., 0, 0, 0],\n",
       "        [0, 0, 0, ..., 0, 0, 0],\n",
       "        [0, 0, 0, ..., 0, 0, 0]],\n",
       "\n",
       "       ...,\n",
       "\n",
       "       [[0, 0, 0, ..., 0, 0, 0],\n",
       "        [0, 0, 0, ..., 0, 0, 0],\n",
       "        [0, 0, 0, ..., 0, 0, 0],\n",
       "        ...,\n",
       "        [0, 0, 0, ..., 0, 0, 0],\n",
       "        [0, 0, 0, ..., 0, 0, 0],\n",
       "        [0, 0, 0, ..., 0, 0, 0]],\n",
       "\n",
       "       [[0, 0, 0, ..., 0, 0, 0],\n",
       "        [0, 0, 0, ..., 0, 0, 0],\n",
       "        [0, 0, 0, ..., 0, 0, 0],\n",
       "        ...,\n",
       "        [0, 0, 0, ..., 0, 0, 0],\n",
       "        [0, 0, 0, ..., 0, 0, 0],\n",
       "        [0, 0, 0, ..., 0, 0, 0]],\n",
       "\n",
       "       [[0, 0, 0, ..., 0, 0, 0],\n",
       "        [0, 0, 0, ..., 0, 0, 0],\n",
       "        [0, 0, 0, ..., 0, 0, 0],\n",
       "        ...,\n",
       "        [0, 0, 0, ..., 0, 0, 0],\n",
       "        [0, 0, 0, ..., 0, 0, 0],\n",
       "        [0, 0, 0, ..., 0, 0, 0]]], dtype=uint8)"
      ]
     },
     "execution_count": 13,
     "metadata": {},
     "output_type": "execute_result"
    }
   ],
   "source": [
    "x_test"
   ]
  },
  {
   "cell_type": "code",
   "execution_count": 14,
   "id": "7fc125af",
   "metadata": {},
   "outputs": [],
   "source": [
    "x_train = x_train.reshape(-1, 28*28).astype('float32') / 255.0\n",
    "x_test = x_test.reshape(-1, 28*28).astype('float32') / 255.0"
   ]
  },
  {
   "cell_type": "code",
   "execution_count": 16,
   "id": "1347a7f9",
   "metadata": {},
   "outputs": [
    {
     "name": "stdout",
     "output_type": "stream",
     "text": [
      "Epoch 1: Loss = 2.3943, Accuracy = 0.2264\n",
      "Epoch 11: Loss = 0.4179, Accuracy = 0.8787\n",
      "Epoch 21: Loss = 0.2718, Accuracy = 0.9245\n",
      "Epoch 31: Loss = 0.1940, Accuracy = 0.9436\n",
      "Epoch 41: Loss = 0.1511, Accuracy = 0.9561\n",
      "Epoch 50: Loss = 0.1248, Accuracy = 0.9641\n",
      "Test Accuracy: 0.9587\n"
     ]
    }
   ],
   "source": [
    "model = deep_learning()\n",
    "model.base_model()  # initialize weights, biases .\n",
    "\n",
    "input_size = 784\n",
    "model.add_layers(input_size=input_size, output_size=128, act=\"relu\", weight_int=\"heuniform\")\n",
    "model.add_layers(input_size=128, output_size=64, act=\"relu\", weight_int=\"heuniform\")\n",
    "model.add_layers(input_size=64, output_size=10, act=\"softmax\", weight_int=\"Glorotuniform\")\n",
    "\n",
    "model.lr = 0.01  # adding learning rate manually\n",
    "\n",
    "model.train(x_train, y_train, model_type=\"classification\", epochs=50)\n",
    "\n",
    "test_accuracy = model.accuracy(x_test, y_test)\n",
    "print(\"Test Accuracy:\", test_accuracy)"
   ]
  }
 ],
 "metadata": {
  "kernelspec": {
   "display_name": "Python 3",
   "language": "python",
   "name": "python3"
  },
  "language_info": {
   "codemirror_mode": {
    "name": "ipython",
    "version": 3
   },
   "file_extension": ".py",
   "mimetype": "text/x-python",
   "name": "python",
   "nbconvert_exporter": "python",
   "pygments_lexer": "ipython3",
   "version": "3.12.4"
  }
 },
 "nbformat": 4,
 "nbformat_minor": 5
}
