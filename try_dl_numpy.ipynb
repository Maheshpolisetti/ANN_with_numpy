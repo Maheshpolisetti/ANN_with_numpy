{
 "cells": [
  {
   "cell_type": "code",
   "execution_count": 3,
   "id": "f1f3e696",
   "metadata": {},
   "outputs": [
    {
     "data": {
      "text/plain": [
       "<module 'dl_with_numpy' from 'c:\\\\Users\\\\psvma\\\\OneDrive\\\\Desktop\\\\project_try_dl\\\\dl_with_numpy.py'>"
      ]
     },
     "execution_count": 3,
     "metadata": {},
     "output_type": "execute_result"
    }
   ],
   "source": [
    "import importlib\n",
    "import dl_with_numpy\n",
    "importlib.reload(dl_with_numpy)"
   ]
  },
  {
   "cell_type": "code",
   "execution_count": 2,
   "id": "71ebe521",
   "metadata": {},
   "outputs": [],
   "source": [
    "from dl_with_numpy import deep_learning"
   ]
  },
  {
   "cell_type": "code",
   "execution_count": 4,
   "id": "f651818c",
   "metadata": {},
   "outputs": [],
   "source": [
    "from sklearn.datasets import load_breast_cancer # checking classification models \n",
    "from sklearn.model_selection import train_test_split\n",
    "from sklearn.preprocessing import StandardScaler"
   ]
  },
  {
   "cell_type": "code",
   "execution_count": 1,
   "id": "e2b6fa2d",
   "metadata": {},
   "outputs": [
    {
     "name": "stdout",
     "output_type": "stream",
     "text": [
      "model 1 checking classification model on breast cancer data set\n"
     ]
    }
   ],
   "source": [
    "print(\"model 1 checking classification model on breast cancer data set\")"
   ]
  },
  {
   "cell_type": "code",
   "execution_count": 5,
   "id": "058c4775",
   "metadata": {},
   "outputs": [],
   "source": [
    "data=load_breast_cancer()\n",
    "X,y=data.data,data.target\n",
    "X_train1, X_test1, y_train1, y_test1 = train_test_split(X, y, test_size=0.2)\n",
    "\n",
    "scaler = StandardScaler()\n",
    "X_train1 = scaler.fit_transform(X_train1)\n",
    "X_test1 = scaler.transform(X_test1)"
   ]
  },
  {
   "cell_type": "code",
   "execution_count": 6,
   "id": "14bd5c6c",
   "metadata": {},
   "outputs": [
    {
     "name": "stdout",
     "output_type": "stream",
     "text": [
      "Epoch 1: Loss = 1.9326, Accuracy = 0.2440\n",
      "Epoch 11: Loss = 1.2432, Accuracy = 0.5319\n",
      "Epoch 21: Loss = 0.8587, Accuracy = 0.8505\n",
      "Epoch 31: Loss = 0.5769, Accuracy = 0.9231\n",
      "Epoch 41: Loss = 0.3778, Accuracy = 0.9319\n",
      "Epoch 51: Loss = 0.2619, Accuracy = 0.9407\n",
      "Epoch 61: Loss = 0.2786, Accuracy = 0.9538\n",
      "Epoch 71: Loss = 0.2602, Accuracy = 0.9582\n",
      "Epoch 81: Loss = 0.2182, Accuracy = 0.9626\n",
      "Epoch 91: Loss = 0.2024, Accuracy = 0.9670\n",
      "Epoch 101: Loss = 0.1595, Accuracy = 0.9692\n",
      "Epoch 111: Loss = 0.1997, Accuracy = 0.9692\n",
      "Epoch 121: Loss = 0.1242, Accuracy = 0.9714\n",
      "Epoch 131: Loss = 0.1382, Accuracy = 0.9802\n",
      "Epoch 141: Loss = 0.1199, Accuracy = 0.9802\n",
      "Epoch 151: Loss = 0.1102, Accuracy = 0.9780\n",
      "Epoch 161: Loss = 0.1159, Accuracy = 0.9824\n",
      "Epoch 171: Loss = 0.1059, Accuracy = 0.9824\n",
      "Epoch 181: Loss = 0.0893, Accuracy = 0.9824\n",
      "Epoch 191: Loss = 0.1093, Accuracy = 0.9824\n",
      "Epoch 200: Loss = 0.1178, Accuracy = 0.9824\n",
      "Test Accuracy: 0.9649\n"
     ]
    }
   ],
   "source": [
    "model1 = deep_learning()\n",
    "model1.base_model()\n",
    "model1.lr = 0.001  # manually set learning rate since constructor is empty\n",
    "\n",
    "# Add layers: input 30 -> hidden 32 -> hidden 16 -> output 2\n",
    "model1.add_layers(input_size=30, output_size=32, act=\"relu\", weight_int=\"heuniform\", base_int=\"zeros\",dropout=0.3)\n",
    "model1.add_layers(input_size=32, output_size=16, act=\"relu\", weight_int=\"heuniform\", base_int=\"zeros\",dropout=0.3)\n",
    "model1.add_layers(input_size=16, output_size=2, act=\"softmax\", weight_int=\"heuniform\", base_int=\"zeros\")\n",
    "\n",
    "# start training \n",
    "model1.train(X_train1, y_train1, model_type=\"classification\", epochs=200)\n",
    "\n",
    "# Evaluate on test set\n",
    "test_accuracy = model1.accuracy(X_test1, y_test1)\n",
    "print(f\"Test Accuracy: {test_accuracy:.4f}\")"
   ]
  },
  {
   "cell_type": "code",
   "execution_count": 7,
   "id": "4df578bc",
   "metadata": {},
   "outputs": [
    {
     "name": "stdout",
     "output_type": "stream",
     "text": [
      "model 2 checking on regression model with data set california housing \n"
     ]
    }
   ],
   "source": [
    "print(\"model 2 checking on regression model with data set california housing \")"
   ]
  },
  {
   "cell_type": "code",
   "execution_count": 8,
   "id": "97fe727a",
   "metadata": {},
   "outputs": [],
   "source": [
    "from sklearn.datasets import fetch_california_housing # checking regression model "
   ]
  },
  {
   "cell_type": "code",
   "execution_count": 9,
   "id": "bfb3dff7",
   "metadata": {},
   "outputs": [],
   "source": [
    "data = fetch_california_housing()\n",
    "X2, y2 = data.data, data.target\n",
    "\n",
    "# Scale features\n",
    "scaler = StandardScaler()\n",
    "X2 = scaler.fit_transform(X2)\n",
    "\n",
    "# Split into train and test\n",
    "X_train2, X_test2, y_train2, y_test2 = train_test_split(X2, y2, test_size=0.2, random_state=42)"
   ]
  },
  {
   "cell_type": "code",
   "execution_count": null,
   "id": "5101037e",
   "metadata": {},
   "outputs": [
    {
     "name": "stdout",
     "output_type": "stream",
     "text": [
      "Epoch 1: Loss = 18.2366, r2 score = -3.9303\n",
      "Epoch 11: Loss = 3.1322, r2 score = 0.1353\n",
      "Epoch 21: Loss = 2.7699, r2 score = 0.3944\n",
      "Epoch 31: Loss = 2.5644, r2 score = 0.4953\n",
      "Epoch 41: Loss = 2.3990, r2 score = 0.5544\n",
      "Epoch 51: Loss = 2.2443, r2 score = 0.6048\n",
      "Epoch 61: Loss = 2.0974, r2 score = 0.6473\n",
      "Epoch 71: Loss = 1.9693, r2 score = 0.6771\n",
      "Epoch 81: Loss = 1.8556, r2 score = 0.6968\n",
      "Epoch 91: Loss = 1.7519, r2 score = 0.7092\n",
      "Epoch 101: Loss = 1.6567, r2 score = 0.7174\n",
      "Epoch 111: Loss = 1.5688, r2 score = 0.7226\n",
      "Epoch 121: Loss = 1.4870, r2 score = 0.7264\n",
      "Epoch 131: Loss = 1.4101, r2 score = 0.7297\n",
      "Epoch 141: Loss = 1.3374, r2 score = 0.7325\n",
      "Epoch 151: Loss = 1.2693, r2 score = 0.7350\n",
      "Epoch 161: Loss = 1.2046, r2 score = 0.7374\n",
      "Epoch 171: Loss = 1.1439, r2 score = 0.7396\n",
      "Epoch 181: Loss = 1.0871, r2 score = 0.7412\n",
      "Epoch 191: Loss = 1.0339, r2 score = 0.7433\n",
      "Epoch 200: Loss = 0.9883, r2 score = 0.7452\n",
      "Test r2: 0.7250756473377049\n"
     ]
    }
   ],
   "source": [
    "model2 = deep_learning()\n",
    "model2.base_model(0.01)  # Initialize attributes\n",
    "model2.lr = 0.005  # Set learning rate\n",
    "\n",
    "# Add layers:\n",
    "# California housing features = 8\n",
    "model2.add_layers(input_size=8, output_size=128, act=\"relu\")\n",
    "model2.add_layers(input_size=128, output_size=64, act=\"relu\")\n",
    "model2.add_layers(input_size=64, output_size=16, act=\"relu\")\n",
    "model2.add_layers(input_size=16, output_size=1, act=\"linear\")  # Output is 1 value\n",
    "\n",
    "# Train the model\n",
    "model2.train(X_train2, y_train2.reshape(-1,1), model_type=\"regression\", epochs=200)\n",
    "\n",
    "# Predict and evaluate\n",
    "r2 = model2.r2_score(X_test2, y_test2.reshape(-1,1))\n",
    "print(\"Test r2:\", r2)"
   ]
  },
  {
   "cell_type": "code",
   "execution_count": 11,
   "id": "71929771",
   "metadata": {},
   "outputs": [
    {
     "name": "stdout",
     "output_type": "stream",
     "text": [
      "model 3 checking on mnist data set for training\n"
     ]
    }
   ],
   "source": [
    "print(\"model 3 checking on mnist data set for training\")"
   ]
  },
  {
   "cell_type": "code",
   "execution_count": 12,
   "id": "7ee53c4b",
   "metadata": {},
   "outputs": [],
   "source": [
    "from tensorflow.keras.datasets import mnist # type: ignore\n",
    "(x_train, y_train), (x_test, y_test) = mnist.load_data()  # checking mnist"
   ]
  },
  {
   "cell_type": "code",
   "execution_count": 13,
   "id": "ccb30578",
   "metadata": {},
   "outputs": [
    {
     "data": {
      "text/plain": [
       "array([[[0, 0, 0, ..., 0, 0, 0],\n",
       "        [0, 0, 0, ..., 0, 0, 0],\n",
       "        [0, 0, 0, ..., 0, 0, 0],\n",
       "        ...,\n",
       "        [0, 0, 0, ..., 0, 0, 0],\n",
       "        [0, 0, 0, ..., 0, 0, 0],\n",
       "        [0, 0, 0, ..., 0, 0, 0]],\n",
       "\n",
       "       [[0, 0, 0, ..., 0, 0, 0],\n",
       "        [0, 0, 0, ..., 0, 0, 0],\n",
       "        [0, 0, 0, ..., 0, 0, 0],\n",
       "        ...,\n",
       "        [0, 0, 0, ..., 0, 0, 0],\n",
       "        [0, 0, 0, ..., 0, 0, 0],\n",
       "        [0, 0, 0, ..., 0, 0, 0]],\n",
       "\n",
       "       [[0, 0, 0, ..., 0, 0, 0],\n",
       "        [0, 0, 0, ..., 0, 0, 0],\n",
       "        [0, 0, 0, ..., 0, 0, 0],\n",
       "        ...,\n",
       "        [0, 0, 0, ..., 0, 0, 0],\n",
       "        [0, 0, 0, ..., 0, 0, 0],\n",
       "        [0, 0, 0, ..., 0, 0, 0]],\n",
       "\n",
       "       ...,\n",
       "\n",
       "       [[0, 0, 0, ..., 0, 0, 0],\n",
       "        [0, 0, 0, ..., 0, 0, 0],\n",
       "        [0, 0, 0, ..., 0, 0, 0],\n",
       "        ...,\n",
       "        [0, 0, 0, ..., 0, 0, 0],\n",
       "        [0, 0, 0, ..., 0, 0, 0],\n",
       "        [0, 0, 0, ..., 0, 0, 0]],\n",
       "\n",
       "       [[0, 0, 0, ..., 0, 0, 0],\n",
       "        [0, 0, 0, ..., 0, 0, 0],\n",
       "        [0, 0, 0, ..., 0, 0, 0],\n",
       "        ...,\n",
       "        [0, 0, 0, ..., 0, 0, 0],\n",
       "        [0, 0, 0, ..., 0, 0, 0],\n",
       "        [0, 0, 0, ..., 0, 0, 0]],\n",
       "\n",
       "       [[0, 0, 0, ..., 0, 0, 0],\n",
       "        [0, 0, 0, ..., 0, 0, 0],\n",
       "        [0, 0, 0, ..., 0, 0, 0],\n",
       "        ...,\n",
       "        [0, 0, 0, ..., 0, 0, 0],\n",
       "        [0, 0, 0, ..., 0, 0, 0],\n",
       "        [0, 0, 0, ..., 0, 0, 0]]], dtype=uint8)"
      ]
     },
     "execution_count": 13,
     "metadata": {},
     "output_type": "execute_result"
    }
   ],
   "source": [
    "x_test"
   ]
  },
  {
   "cell_type": "code",
   "execution_count": 14,
   "id": "7fc125af",
   "metadata": {},
   "outputs": [],
   "source": [
    "x_train = x_train.reshape(-1, 28*28).astype('float32') / 255.0\n",
    "x_test = x_test.reshape(-1, 28*28).astype('float32') / 255.0"
   ]
  },
  {
   "cell_type": "code",
   "execution_count": 16,
   "id": "1347a7f9",
   "metadata": {},
   "outputs": [
    {
     "name": "stdout",
     "output_type": "stream",
     "text": [
      "Epoch 1: Loss = 2.4546, Accuracy = 0.4128\n",
      "Epoch 11: Loss = 0.8685, Accuracy = 0.8784\n",
      "Epoch 21: Loss = 0.7329, Accuracy = 0.9187\n",
      "Epoch 31: Loss = 0.5196, Accuracy = 0.9359\n",
      "Epoch 41: Loss = 0.4028, Accuracy = 0.9458\n",
      "Epoch 51: Loss = 0.3489, Accuracy = 0.9507\n",
      "Epoch 61: Loss = 0.3298, Accuracy = 0.9522\n",
      "Epoch 71: Loss = 0.2988, Accuracy = 0.9486\n",
      "Epoch 81: Loss = 0.2816, Accuracy = 0.9518\n",
      "Epoch 91: Loss = 0.2843, Accuracy = 0.9532\n",
      "Epoch 100: Loss = 0.3017, Accuracy = 0.9529\n",
      "Test Accuracy: 0.9501\n"
     ]
    }
   ],
   "source": [
    "model = deep_learning()\n",
    "model.base_model()  # initialize weights, biases .\n",
    "\n",
    "input_size = 784\n",
    "model.add_layers(input_size=input_size, output_size=128, act=\"relu\", weight_int=\"heuniform\",dropout=0.2)\n",
    "model.add_layers(input_size=128, output_size=64, act=\"relu\", weight_int=\"heuniform\",dropout=0.2)\n",
    "model.add_layers(input_size=64, output_size=10, act=\"softmax\", weight_int=\"Glorotuniform\")\n",
    "\n",
    "model.lr = 0.01  # adding learning rate manually\n",
    "\n",
    "model.train(x_train, y_train, model_type=\"classification\", epochs=100)\n",
    "\n",
    "test_accuracy = model.accuracy(x_test, y_test)\n",
    "print(\"Test Accuracy:\", test_accuracy)"
   ]
  }
 ],
 "metadata": {
  "kernelspec": {
   "display_name": "Python 3",
   "language": "python",
   "name": "python3"
  },
  "language_info": {
   "codemirror_mode": {
    "name": "ipython",
    "version": 3
   },
   "file_extension": ".py",
   "mimetype": "text/x-python",
   "name": "python",
   "nbconvert_exporter": "python",
   "pygments_lexer": "ipython3",
   "version": "3.12.4"
  }
 },
 "nbformat": 4,
 "nbformat_minor": 5
}
