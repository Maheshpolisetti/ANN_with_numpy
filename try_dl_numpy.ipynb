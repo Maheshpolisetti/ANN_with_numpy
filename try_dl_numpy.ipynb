{
 "cells": [
  {
   "cell_type": "code",
   "execution_count": 1,
   "id": "f1f3e696",
   "metadata": {},
   "outputs": [
    {
     "data": {
      "text/plain": [
       "<module 'dl_with_numpy' from 'c:\\\\Users\\\\psvma\\\\OneDrive\\\\Desktop\\\\project_try_dl\\\\dl_with_numpy.py'>"
      ]
     },
     "execution_count": 1,
     "metadata": {},
     "output_type": "execute_result"
    }
   ],
   "source": [
    "import importlib\n",
    "import dl_with_numpy\n",
    "importlib.reload(dl_with_numpy)"
   ]
  },
  {
   "cell_type": "code",
   "execution_count": 2,
   "id": "71ebe521",
   "metadata": {},
   "outputs": [],
   "source": [
    "from dl_with_numpy import deep_learning"
   ]
  },
  {
   "cell_type": "code",
   "execution_count": 3,
   "id": "f651818c",
   "metadata": {},
   "outputs": [],
   "source": [
    "from sklearn.datasets import load_digits\n",
    "from sklearn.model_selection import train_test_split\n",
    "from sklearn.preprocessing import StandardScaler\n"
   ]
  },
  {
   "cell_type": "code",
   "execution_count": 18,
   "id": "058c4775",
   "metadata": {},
   "outputs": [],
   "source": [
    "X, y = load_digits(return_X_y=True)\n",
    "X = StandardScaler().fit_transform(X)\n",
    "X_train, X_test, y_train, y_test = train_test_split(X, y, test_size=0.2)\n"
   ]
  },
  {
   "cell_type": "code",
   "execution_count": 19,
   "id": "14bd5c6c",
   "metadata": {},
   "outputs": [
    {
     "name": "stdout",
     "output_type": "stream",
     "text": [
      "Epoch 1: Loss = 2.8941, Accuracy = 0.0870\n",
      "Epoch 11: Loss = 2.4374, Accuracy = 0.1538\n",
      "Epoch 21: Loss = 2.0926, Accuracy = 0.2630\n",
      "Epoch 31: Loss = 1.8247, Accuracy = 0.3932\n",
      "Epoch 41: Loss = 1.5954, Accuracy = 0.5219\n",
      "Epoch 51: Loss = 1.3931, Accuracy = 0.5943\n",
      "Epoch 61: Loss = 1.2189, Accuracy = 0.6354\n",
      "Epoch 71: Loss = 1.0723, Accuracy = 0.6695\n",
      "Epoch 81: Loss = 0.9496, Accuracy = 0.6994\n",
      "Epoch 91: Loss = 0.8446, Accuracy = 0.7209\n",
      "Epoch 101: Loss = 0.7513, Accuracy = 0.7543\n",
      "Epoch 111: Loss = 0.6646, Accuracy = 0.7996\n",
      "Epoch 121: Loss = 0.5813, Accuracy = 0.8532\n",
      "Epoch 131: Loss = 0.4998, Accuracy = 0.8970\n",
      "Epoch 141: Loss = 0.4212, Accuracy = 0.9207\n",
      "Epoch 151: Loss = 0.3505, Accuracy = 0.9388\n",
      "Epoch 161: Loss = 0.2922, Accuracy = 0.9457\n",
      "Epoch 171: Loss = 0.2464, Accuracy = 0.9548\n",
      "Epoch 181: Loss = 0.2108, Accuracy = 0.9576\n",
      "Epoch 191: Loss = 0.1831, Accuracy = 0.9645\n",
      "Epoch 200: Loss = 0.1629, Accuracy = 0.9680\n",
      "Test Accuracy: 0.9111\n"
     ]
    }
   ],
   "source": [
    "model1 = deep_learning()\n",
    "model1.base_model()\n",
    "model1.lr = 0.001  # manually set learning rate since constructor is empty\n",
    "\n",
    "# 3. Add layers: input 64 → hidden 32 → hidden 16 → output 10\n",
    "model1.add_layers(input_size=64, output_size=32, act=\"relu\", weight_int=\"heuniform\", base_int=\"zeros\")\n",
    "model1.add_layers(input_size=32, output_size=16, act=\"relu\", weight_int=\"heuniform\", base_int=\"zeros\")\n",
    "model1.add_layers(input_size=16, output_size=10, act=\"softmax\", weight_int=\"heuniform\", base_int=\"zeros\")\n",
    "\n",
    "# 4. Train the model\n",
    "model1.train(X_train, y_train, model_type=\"classification\", epochs=200)\n",
    "\n",
    "# 5. Evaluate on test set\n",
    "test_accuracy = model1.accuracy(X_test, y_test)\n",
    "print(f\"Test Accuracy: {test_accuracy:.4f}\")"
   ]
  },
  {
   "cell_type": "code",
   "execution_count": 8,
   "id": "97fe727a",
   "metadata": {},
   "outputs": [],
   "source": [
    "from sklearn.datasets import fetch_california_housing"
   ]
  },
  {
   "cell_type": "code",
   "execution_count": 20,
   "id": "bfb3dff7",
   "metadata": {},
   "outputs": [],
   "source": [
    "data = fetch_california_housing()\n",
    "X2, y2 = data.data, data.target\n",
    "\n",
    "# Scale features\n",
    "scaler = StandardScaler()\n",
    "X2 = scaler.fit_transform(X2)\n",
    "\n",
    "# Split into train and test\n",
    "X_train2, X_test2, y_train2, y_test2 = train_test_split(X2, y2, test_size=0.2, random_state=42)"
   ]
  },
  {
   "cell_type": "code",
   "execution_count": 21,
   "id": "5101037e",
   "metadata": {},
   "outputs": [
    {
     "name": "stdout",
     "output_type": "stream",
     "text": [
      "Epoch 1: Loss = 7.4774\n",
      "Epoch 11: Loss = 2.8729\n",
      "Epoch 21: Loss = 2.5343\n",
      "Epoch 31: Loss = 2.3266\n",
      "Epoch 41: Loss = 2.1633\n",
      "Epoch 51: Loss = 2.0156\n",
      "Epoch 61: Loss = 1.8862\n",
      "Epoch 71: Loss = 1.7679\n",
      "Epoch 81: Loss = 1.6593\n",
      "Epoch 91: Loss = 1.5605\n",
      "Epoch 101: Loss = 1.4700\n",
      "Epoch 111: Loss = 1.3858\n",
      "Epoch 121: Loss = 1.3076\n",
      "Epoch 131: Loss = 1.2351\n",
      "Epoch 141: Loss = 1.1659\n",
      "Epoch 151: Loss = 1.1066\n",
      "Epoch 161: Loss = 1.0436\n",
      "Epoch 171: Loss = 0.9878\n",
      "Epoch 181: Loss = 0.9376\n",
      "Epoch 191: Loss = 0.8900\n",
      "Epoch 200: Loss = 0.8540\n",
      "Test r2: 0.7478529812984245\n"
     ]
    }
   ],
   "source": [
    "model2 = deep_learning()\n",
    "model2.base_model(0.01)  # Initialize attributes\n",
    "model2.lr = 0.005  # Set learning rate\n",
    "\n",
    "# Add layers:\n",
    "# California housing features = 8\n",
    "model2.add_layers(input_size=8, output_size=128, act=\"relu\")\n",
    "model2.add_layers(input_size=128, output_size=64, act=\"relu\")\n",
    "# model2.add_layers(input_size=64, output_size=32, act=\"relu\")\n",
    "model2.add_layers(input_size=64, output_size=16, act=\"relu\")\n",
    "model2.add_layers(input_size=16, output_size=1, act=\"linear\")  # Output is 1 value\n",
    "\n",
    "# Train the model\n",
    "model2.train(X_train2, y_train2.reshape(-1,1), model_type=\"regression\", epochs=200)\n",
    "\n",
    "# Predict and evaluate\n",
    "# y_pred2 = model2.forward(X_test2)\n",
    "r2 = model2.r2_score(X_test2, y_test2.reshape(-1,1))\n",
    "print(\"Test r2:\", r2)"
   ]
  },
  {
   "cell_type": "code",
   "execution_count": 23,
   "id": "7ee53c4b",
   "metadata": {},
   "outputs": [],
   "source": [
    "from tensorflow.keras.datasets import mnist # type: ignore\n",
    "(x_train, y_train), (x_test, y_test) = mnist.load_data()"
   ]
  },
  {
   "cell_type": "code",
   "execution_count": 12,
   "id": "ccb30578",
   "metadata": {},
   "outputs": [
    {
     "data": {
      "text/plain": [
       "array([[[0, 0, 0, ..., 0, 0, 0],\n",
       "        [0, 0, 0, ..., 0, 0, 0],\n",
       "        [0, 0, 0, ..., 0, 0, 0],\n",
       "        ...,\n",
       "        [0, 0, 0, ..., 0, 0, 0],\n",
       "        [0, 0, 0, ..., 0, 0, 0],\n",
       "        [0, 0, 0, ..., 0, 0, 0]],\n",
       "\n",
       "       [[0, 0, 0, ..., 0, 0, 0],\n",
       "        [0, 0, 0, ..., 0, 0, 0],\n",
       "        [0, 0, 0, ..., 0, 0, 0],\n",
       "        ...,\n",
       "        [0, 0, 0, ..., 0, 0, 0],\n",
       "        [0, 0, 0, ..., 0, 0, 0],\n",
       "        [0, 0, 0, ..., 0, 0, 0]],\n",
       "\n",
       "       [[0, 0, 0, ..., 0, 0, 0],\n",
       "        [0, 0, 0, ..., 0, 0, 0],\n",
       "        [0, 0, 0, ..., 0, 0, 0],\n",
       "        ...,\n",
       "        [0, 0, 0, ..., 0, 0, 0],\n",
       "        [0, 0, 0, ..., 0, 0, 0],\n",
       "        [0, 0, 0, ..., 0, 0, 0]],\n",
       "\n",
       "       ...,\n",
       "\n",
       "       [[0, 0, 0, ..., 0, 0, 0],\n",
       "        [0, 0, 0, ..., 0, 0, 0],\n",
       "        [0, 0, 0, ..., 0, 0, 0],\n",
       "        ...,\n",
       "        [0, 0, 0, ..., 0, 0, 0],\n",
       "        [0, 0, 0, ..., 0, 0, 0],\n",
       "        [0, 0, 0, ..., 0, 0, 0]],\n",
       "\n",
       "       [[0, 0, 0, ..., 0, 0, 0],\n",
       "        [0, 0, 0, ..., 0, 0, 0],\n",
       "        [0, 0, 0, ..., 0, 0, 0],\n",
       "        ...,\n",
       "        [0, 0, 0, ..., 0, 0, 0],\n",
       "        [0, 0, 0, ..., 0, 0, 0],\n",
       "        [0, 0, 0, ..., 0, 0, 0]],\n",
       "\n",
       "       [[0, 0, 0, ..., 0, 0, 0],\n",
       "        [0, 0, 0, ..., 0, 0, 0],\n",
       "        [0, 0, 0, ..., 0, 0, 0],\n",
       "        ...,\n",
       "        [0, 0, 0, ..., 0, 0, 0],\n",
       "        [0, 0, 0, ..., 0, 0, 0],\n",
       "        [0, 0, 0, ..., 0, 0, 0]]], dtype=uint8)"
      ]
     },
     "execution_count": 12,
     "metadata": {},
     "output_type": "execute_result"
    }
   ],
   "source": [
    "x_test"
   ]
  },
  {
   "cell_type": "code",
   "execution_count": 24,
   "id": "7fc125af",
   "metadata": {},
   "outputs": [],
   "source": [
    "x_train = x_train.reshape(-1, 28*28).astype('float32') / 255.0\n",
    "x_test = x_test.reshape(-1, 28*28).astype('float32') / 255.0"
   ]
  },
  {
   "cell_type": "code",
   "execution_count": 25,
   "id": "1347a7f9",
   "metadata": {},
   "outputs": [
    {
     "name": "stdout",
     "output_type": "stream",
     "text": [
      "Epoch 1: Loss = 2.3766, Accuracy = 0.4117\n",
      "Epoch 11: Loss = 0.3885, Accuracy = 0.8876\n",
      "Epoch 21: Loss = 0.2613, Accuracy = 0.9264\n",
      "Epoch 31: Loss = 0.1898, Accuracy = 0.9461\n",
      "Epoch 41: Loss = 0.1467, Accuracy = 0.9585\n",
      "Epoch 50: Loss = 0.1201, Accuracy = 0.9662\n",
      "Test Accuracy: 0.9578\n"
     ]
    }
   ],
   "source": [
    "model = deep_learning()\n",
    "model.base_model()  # initialize weights, biases etc.\n",
    "\n",
    "input_size = 784\n",
    "model.add_layers(input_size=input_size, output_size=128, act=\"relu\", weight_int=\"heuniform\")\n",
    "model.add_layers(input_size=128, output_size=64, act=\"relu\", weight_int=\"heuniform\")\n",
    "model.add_layers(input_size=64, output_size=10, act=\"softmax\", weight_int=\"Glorotuniform\")\n",
    "\n",
    "model.lr = 0.01  # add learning rate manually since it's not handled in the class constructor\n",
    "\n",
    "model.train(x_train, y_train, model_type=\"classification\", epochs=50)\n",
    "\n",
    "test_accuracy = model.accuracy(x_test, y_test)\n",
    "print(\"Test Accuracy:\", test_accuracy)"
   ]
  },
  {
   "cell_type": "code",
   "execution_count": 16,
   "id": "8349d583",
   "metadata": {},
   "outputs": [
    {
     "name": "stdout",
     "output_type": "stream",
     "text": [
      "Epoch 1: Loss = 0.1027, Accuracy = 0.9702\n",
      "Epoch 11: Loss = 0.0849, Accuracy = 0.9759\n",
      "Epoch 21: Loss = 0.0706, Accuracy = 0.9800\n",
      "Epoch 31: Loss = 0.0588, Accuracy = 0.9837\n",
      "Epoch 40: Loss = 0.0497, Accuracy = 0.9865\n",
      "Test Accuracy: 0.9699\n"
     ]
    }
   ],
   "source": [
    "model.train(x_train, y_train, model_type=\"classification\", epochs=40)\n",
    "\n",
    "test_accuracy = model.accuracy(x_test, y_test)\n",
    "print(\"Test Accuracy:\", test_accuracy)"
   ]
  }
 ],
 "metadata": {
  "kernelspec": {
   "display_name": "Python 3",
   "language": "python",
   "name": "python3"
  },
  "language_info": {
   "codemirror_mode": {
    "name": "ipython",
    "version": 3
   },
   "file_extension": ".py",
   "mimetype": "text/x-python",
   "name": "python",
   "nbconvert_exporter": "python",
   "pygments_lexer": "ipython3",
   "version": "3.12.4"
  }
 },
 "nbformat": 4,
 "nbformat_minor": 5
}
